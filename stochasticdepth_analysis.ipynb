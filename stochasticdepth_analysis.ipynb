{
 "cells": [
  {
   "cell_type": "markdown",
   "metadata": {},
   "source": [
    "We will use the \"Concrete Crack Images for Classification\" Dataset first below is the link to the dataset\n",
    "https://data.mendeley.com/datasets/5y9wdsg2zt/2"
   ]
  },
  {
   "cell_type": "markdown",
   "metadata": {},
   "source": [
    "Let us first split the dataset into train val and test"
   ]
  },
  {
   "cell_type": "code",
   "execution_count": null,
   "metadata": {},
   "outputs": [],
   "source": [
    "import random\n",
    "import shutil\n",
    "import os\n",
    "import glob\n",
    "##the data path should be the path to the folder where the imeediate subfolders are the classes\n",
    "img_path = \"C:/Users/iwiza/Documents/projects/data/Concrete_Crack_Images_for_Classification\"\n",
    "data_path = \"C:/Users/iwiza/Documents/projects/data\"\n",
    "train_path = data_path+\"/train\"\n",
    "val_path = data_path+\"/val\"\n",
    "test_path = data_path+\"/test\"\n",
    "\n",
    "#if you are running it again we dont need to split the data so this is just the check \n",
    "data_path_paths = glob.glob(img_path+'/**/*.jpg',recursive=True)\n",
    "if len(data_path_paths)>0:\n",
    "    #we will make a 80% 10% 10% split\n",
    "    #######################################################\n",
    "    for clss in os.listdir(img_path):\n",
    "        img_paths = glob.glob(img_path+'/'+clss+\"/**/*.jpg\",recursive=True)\n",
    "        random.shuffle(img_paths)\n",
    "        os.makedirs(train_path+'/'+clss,exist_ok=True)\n",
    "        for img_p in img_paths[:int(len(img_paths)*0.80)]:\n",
    "            shutil.move(img_p,train_path+'/'+clss)\n",
    "        os.makedirs(val_path+'/'+clss,exist_ok=True)\n",
    "        for img_p in img_paths[int(len(img_paths)*0.80):int(len(img_paths)*0.90)]:\n",
    "            shutil.move(img_p,val_path+'/'+clss)\n",
    "        os.makedirs(test_path+'/'+clss,exist_ok=True)\n",
    "        for img_p in img_paths[int(len(img_paths)*0.90):]:\n",
    "            shutil.move(img_p,test_path+'/'+clss)\n",
    "    "
   ]
  },
  {
   "cell_type": "markdown",
   "metadata": {},
   "source": [
    "here we define the train cycle and val cycle"
   ]
  },
  {
   "cell_type": "code",
   "execution_count": null,
   "metadata": {},
   "outputs": [],
   "source": [
    "import torch\n",
    "from tqdm import tqdm\n",
    "def train_cycle(train_dataloader,optimizer,criterion,model):\n",
    "    model.train()\n",
    "    epoch_loss = 0\n",
    "    epochs_acc = 0\n",
    "    count = 0\n",
    "    # print(len(train_dataloader))\n",
    "    for images,labels in tqdm(train_dataloader,total=len(train_dataloader)):\n",
    "        optimizer.zero_grad()\n",
    "        outputs = model(images)\n",
    "        loss = criterion(outputs,labels)\n",
    "        loss.backward()\n",
    "        optimizer.step()\n",
    "        epoch_loss+=loss.item()\n",
    "        _,predicted=torch.max(outputs.data,1)\n",
    "        count+=labels.size(0)\n",
    "        epochs_acc+=(predicted==labels).sum().item()\n",
    "        # break\n",
    "    epoch_loss=epoch_loss/len(train_dataloader)\n",
    "    epochs_acc = epochs_acc/count\n",
    "    return epoch_loss,epochs_acc\n",
    "\n",
    "def val_cycle(val_dataloader,criterion,model):\n",
    "    model.eval()\n",
    "    epoch_loss = 0\n",
    "    epochs_acc = 0\n",
    "    count = 0\n",
    "    with torch.no_grad():\n",
    "        for images,labels in val_dataloader:\n",
    "            outputs = model(images)\n",
    "            loss = criterion(outputs,labels)\n",
    "            epoch_loss+=loss.item()\n",
    "            _,predicted=torch.max(outputs.data,1)\n",
    "            count+=labels.size(0)\n",
    "            epochs_acc+=(predicted==labels).sum().item()\n",
    "        epoch_loss=epoch_loss/len(val_dataloader)\n",
    "        epochs_acc = epochs_acc/count\n",
    "    return epoch_loss,epochs_acc"
   ]
  },
  {
   "cell_type": "markdown",
   "metadata": {},
   "source": [
    "Here we will define the training settings"
   ]
  },
  {
   "cell_type": "code",
   "execution_count": null,
   "metadata": {},
   "outputs": [],
   "source": [
    "num_of_epochs = 30\n",
    "batch_size = 8\n",
    "learning_rate=0.001"
   ]
  },
  {
   "cell_type": "markdown",
   "metadata": {},
   "source": [
    "we first load the dataset"
   ]
  },
  {
   "cell_type": "code",
   "execution_count": null,
   "metadata": {},
   "outputs": [],
   "source": [
    "import torchvision\n",
    "from torch.utils.data import DataLoader\n",
    "#for the transforms we will not be resizing the images since this dataset already has resized images\n",
    "\n",
    "transforms = torchvision.transforms.ToTensor()\n",
    "train_dataset = torchvision.datasets.ImageFolder(train_path,transform=transforms)\n",
    "val_dataset = torchvision.datasets.ImageFolder(val_path,transform=transforms)\n",
    "test_dataset = torchvision.datasets.ImageFolder(test_path,transform=transforms)\n",
    "\n",
    "train_dataloader = DataLoader(train_dataset,batch_size=batch_size,num_workers=4,shuffle=True)\n",
    "val_dataloader = DataLoader(val_dataset,batch_size=batch_size,num_workers=4,shuffle=False)\n",
    "train_dataloader = DataLoader(train_dataset,batch_size=batch_size,num_workers=4,shuffle=False)"
   ]
  },
  {
   "cell_type": "markdown",
   "metadata": {},
   "source": [
    "First we will benchmark the effecientnet_b0 model without the stochastic depth layer"
   ]
  },
  {
   "cell_type": "code",
   "execution_count": null,
   "metadata": {},
   "outputs": [],
   "source": [
    "from Architectures.eficientnetb0 import efficientnet_b0_without_stochastic\n",
    "import torch.optim as optim\n",
    "import torch.nn as nn\n",
    "\n",
    "model_without = efficientnet_b0_without_stochastic(num_classes=len(train_dataset.classes))\n",
    "\n",
    "criterion = nn.CrossEntropyLoss()#.to(\"cpu\")\n",
    "optimizer = optim.AdamW(model_without.parameters(), lr=learning_rate)\n"
   ]
  },
  {
   "cell_type": "code",
   "execution_count": null,
   "metadata": {},
   "outputs": [],
   "source": [
    "import numpy as np \n",
    "import matplotlib.pyplot as plt\n",
    "train_loss_list = []\n",
    "train_acc_list = []\n",
    "valid_loss_list = []\n",
    "valid_acc_list = []\n",
    "# torch.autograd.set_detect_anomaly(True)\n",
    "\n",
    "def plot_metrics(train_values, val_values, metric_name, title, ylabel):\n",
    "    epochs = range(1, len(train_values) + 1)\n",
    "\n",
    "    plt.plot(epochs, train_values, 'bo-', label=f'Training {metric_name}')\n",
    "    plt.plot(epochs, val_values, 'ro-', label=f'Validation {metric_name}')\n",
    "\n",
    "    plt.title(title)\n",
    "    plt.xlabel('Epochs')\n",
    "    plt.ylabel(ylabel)\n",
    "    plt.legend()\n",
    "\n",
    "    plt.show()\n",
    "best_loss = 10000000\n",
    "# with torch.autograd.set_detect_anomaly(True):\n",
    "for epoch in range(num_of_epochs):\n",
    "    print(epoch)\n",
    "    train_epoch_loss,train_epoch_acc=train_cycle(train_dataloader,optimizer,criterion,model_without)\n",
    "    print(\"done 1\")\n",
    "    val_epoch_loss,val_epoch_acc=val_cycle(val_dataloader,criterion,model_without)\n",
    "    print(\"done 2\")\n",
    "    train_loss_list.append(train_epoch_loss)\n",
    "    train_acc_list.append(train_epoch_acc)\n",
    "    valid_loss_list.append(val_epoch_loss)\n",
    "    valid_acc_list.append(val_epoch_acc)\n",
    "    print(f\"epoch {epoch}/{num_of_epochs}\\ntrain acc - {train_epoch_acc} train loss - {train_epoch_loss}\\nval acc - {val_epoch_acc} val loss - {val_epoch_loss}\")\n",
    "    plot_metrics(train_acc_list,valid_acc_list, 'Accuracy', 'Training and Validation Accuracy', 'Accuracy')\n",
    "    plot_metrics(train_loss_list, valid_loss_list, 'Loss', 'Training and Validation Loss', 'Loss')\n",
    "    if val_epoch_loss<best_loss:\n",
    "        val_epoch_loss=best_loss\n",
    "        torch.save({\"model_state_dict\":model_without.state_dict()},\"best_without_stochastic_depth.pt\")"
   ]
  },
  {
   "cell_type": "code",
   "execution_count": null,
   "metadata": {},
   "outputs": [],
   "source": []
  },
  {
   "cell_type": "code",
   "execution_count": null,
   "metadata": {},
   "outputs": [],
   "source": []
  },
  {
   "cell_type": "code",
   "execution_count": null,
   "metadata": {},
   "outputs": [],
   "source": []
  },
  {
   "cell_type": "code",
   "execution_count": null,
   "metadata": {},
   "outputs": [],
   "source": []
  }
 ],
 "metadata": {
  "kernelspec": {
   "display_name": "torchenv",
   "language": "python",
   "name": "python3"
  },
  "language_info": {
   "codemirror_mode": {
    "name": "ipython",
    "version": 3
   },
   "file_extension": ".py",
   "mimetype": "text/x-python",
   "name": "python",
   "nbconvert_exporter": "python",
   "pygments_lexer": "ipython3",
   "version": "3.11.7"
  }
 },
 "nbformat": 4,
 "nbformat_minor": 2
}
